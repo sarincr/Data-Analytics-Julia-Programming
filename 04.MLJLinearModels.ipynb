{
 "cells": [
  {
   "cell_type": "code",
   "execution_count": 1,
   "metadata": {},
   "outputs": [
    {
     "data": {
      "text/plain": [
       "LinearRegressor(\n",
       "    fit_intercept = true,\n",
       "    solver = nothing)\u001b[34m @109\u001b[39m"
      ]
     },
     "execution_count": 1,
     "metadata": {},
     "output_type": "execute_result"
    }
   ],
   "source": [
    "using MLJ\n",
    "@load LinearRegressor pkg=MLJLinearModels"
   ]
  },
  {
   "cell_type": "code",
   "execution_count": 2,
   "metadata": {},
   "outputs": [
    {
     "data": {
      "text/html": [
       "<table class=\"data-frame\"><thead><tr><th></th><th>Crim</th><th>Zn</th><th>Indus</th><th>Chas</th><th>NOx</th><th>Rm</th><th>Age</th><th>Dis</th><th>Rad</th><th>Tax</th></tr><tr><th></th><th>Float64</th><th>Float64</th><th>Float64</th><th>Int64</th><th>Float64</th><th>Float64</th><th>Float64</th><th>Float64</th><th>Int64</th><th>Int64</th></tr></thead><tbody><p>3 rows × 14 columns (omitted printing of 4 columns)</p><tr><th>1</th><td>0.00632</td><td>18.0</td><td>2.31</td><td>0</td><td>0.538</td><td>6.575</td><td>65.2</td><td>4.09</td><td>1</td><td>296</td></tr><tr><th>2</th><td>0.02731</td><td>0.0</td><td>7.07</td><td>0</td><td>0.469</td><td>6.421</td><td>78.9</td><td>4.9671</td><td>2</td><td>242</td></tr><tr><th>3</th><td>0.02729</td><td>0.0</td><td>7.07</td><td>0</td><td>0.469</td><td>7.185</td><td>61.1</td><td>4.9671</td><td>2</td><td>242</td></tr></tbody></table>"
      ],
      "text/latex": [
       "\\begin{tabular}{r|ccccccccccc}\n",
       "\t& Crim & Zn & Indus & Chas & NOx & Rm & Age & Dis & Rad & Tax & \\\\\n",
       "\t\\hline\n",
       "\t& Float64 & Float64 & Float64 & Int64 & Float64 & Float64 & Float64 & Float64 & Int64 & Int64 & \\\\\n",
       "\t\\hline\n",
       "\t1 & 0.00632 & 18.0 & 2.31 & 0 & 0.538 & 6.575 & 65.2 & 4.09 & 1 & 296 & $\\dots$ \\\\\n",
       "\t2 & 0.02731 & 0.0 & 7.07 & 0 & 0.469 & 6.421 & 78.9 & 4.9671 & 2 & 242 & $\\dots$ \\\\\n",
       "\t3 & 0.02729 & 0.0 & 7.07 & 0 & 0.469 & 7.185 & 61.1 & 4.9671 & 2 & 242 & $\\dots$ \\\\\n",
       "\\end{tabular}\n"
      ],
      "text/plain": [
       "3×14 DataFrame. Omitted printing of 7 columns\n",
       "│ Row │ Crim    │ Zn      │ Indus   │ Chas  │ NOx     │ Rm      │ Age     │\n",
       "│     │ \u001b[90mFloat64\u001b[39m │ \u001b[90mFloat64\u001b[39m │ \u001b[90mFloat64\u001b[39m │ \u001b[90mInt64\u001b[39m │ \u001b[90mFloat64\u001b[39m │ \u001b[90mFloat64\u001b[39m │ \u001b[90mFloat64\u001b[39m │\n",
       "├─────┼─────────┼─────────┼─────────┼───────┼─────────┼─────────┼─────────┤\n",
       "│ 1   │ 0.00632 │ 18.0    │ 2.31    │ 0     │ 0.538   │ 6.575   │ 65.2    │\n",
       "│ 2   │ 0.02731 │ 0.0     │ 7.07    │ 0     │ 0.469   │ 6.421   │ 78.9    │\n",
       "│ 3   │ 0.02729 │ 0.0     │ 7.07    │ 0     │ 0.469   │ 7.185   │ 61.1    │"
      ]
     },
     "execution_count": 2,
     "metadata": {},
     "output_type": "execute_result"
    }
   ],
   "source": [
    "import RDatasets: dataset\n",
    "import DataFrames: describe, select, Not, rename!\n",
    "boston = dataset(\"MASS\", \"Boston\")\n",
    "first(boston, 3)"
   ]
  },
  {
   "cell_type": "code",
   "execution_count": 3,
   "metadata": {},
   "outputs": [
    {
     "data": {
      "text/html": [
       "<table class=\"data-frame\"><thead><tr><th></th><th>variable</th><th>mean</th><th>std</th><th>eltype</th></tr><tr><th></th><th>Symbol</th><th>Float64</th><th>Float64</th><th>DataType</th></tr></thead><tbody><p>14 rows × 4 columns</p><tr><th>1</th><td>Crim</td><td>3.61352</td><td>8.60155</td><td>Float64</td></tr><tr><th>2</th><td>Zn</td><td>11.3636</td><td>23.3225</td><td>Float64</td></tr><tr><th>3</th><td>Indus</td><td>11.1368</td><td>6.86035</td><td>Float64</td></tr><tr><th>4</th><td>Chas</td><td>0.06917</td><td>0.253994</td><td>Int64</td></tr><tr><th>5</th><td>NOx</td><td>0.554695</td><td>0.115878</td><td>Float64</td></tr><tr><th>6</th><td>Rm</td><td>6.28463</td><td>0.702617</td><td>Float64</td></tr><tr><th>7</th><td>Age</td><td>68.5749</td><td>28.1489</td><td>Float64</td></tr><tr><th>8</th><td>Dis</td><td>3.79504</td><td>2.10571</td><td>Float64</td></tr><tr><th>9</th><td>Rad</td><td>9.54941</td><td>8.70726</td><td>Int64</td></tr><tr><th>10</th><td>Tax</td><td>408.237</td><td>168.537</td><td>Int64</td></tr><tr><th>11</th><td>PTRatio</td><td>18.4555</td><td>2.16495</td><td>Float64</td></tr><tr><th>12</th><td>Black</td><td>356.674</td><td>91.2949</td><td>Float64</td></tr><tr><th>13</th><td>LStat</td><td>12.6531</td><td>7.14106</td><td>Float64</td></tr><tr><th>14</th><td>MedV</td><td>22.5328</td><td>9.1971</td><td>Float64</td></tr></tbody></table>"
      ],
      "text/latex": [
       "\\begin{tabular}{r|cccc}\n",
       "\t& variable & mean & std & eltype\\\\\n",
       "\t\\hline\n",
       "\t& Symbol & Float64 & Float64 & DataType\\\\\n",
       "\t\\hline\n",
       "\t1 & Crim & 3.61352 & 8.60155 & Float64 \\\\\n",
       "\t2 & Zn & 11.3636 & 23.3225 & Float64 \\\\\n",
       "\t3 & Indus & 11.1368 & 6.86035 & Float64 \\\\\n",
       "\t4 & Chas & 0.06917 & 0.253994 & Int64 \\\\\n",
       "\t5 & NOx & 0.554695 & 0.115878 & Float64 \\\\\n",
       "\t6 & Rm & 6.28463 & 0.702617 & Float64 \\\\\n",
       "\t7 & Age & 68.5749 & 28.1489 & Float64 \\\\\n",
       "\t8 & Dis & 3.79504 & 2.10571 & Float64 \\\\\n",
       "\t9 & Rad & 9.54941 & 8.70726 & Int64 \\\\\n",
       "\t10 & Tax & 408.237 & 168.537 & Int64 \\\\\n",
       "\t11 & PTRatio & 18.4555 & 2.16495 & Float64 \\\\\n",
       "\t12 & Black & 356.674 & 91.2949 & Float64 \\\\\n",
       "\t13 & LStat & 12.6531 & 7.14106 & Float64 \\\\\n",
       "\t14 & MedV & 22.5328 & 9.1971 & Float64 \\\\\n",
       "\\end{tabular}\n"
      ],
      "text/plain": [
       "14×4 DataFrame\n",
       "│ Row │ variable │ mean     │ std      │ eltype   │\n",
       "│     │ \u001b[90mSymbol\u001b[39m   │ \u001b[90mFloat64\u001b[39m  │ \u001b[90mFloat64\u001b[39m  │ \u001b[90mDataType\u001b[39m │\n",
       "├─────┼──────────┼──────────┼──────────┼──────────┤\n",
       "│ 1   │ Crim     │ 3.61352  │ 8.60155  │ Float64  │\n",
       "│ 2   │ Zn       │ 11.3636  │ 23.3225  │ Float64  │\n",
       "│ 3   │ Indus    │ 11.1368  │ 6.86035  │ Float64  │\n",
       "│ 4   │ Chas     │ 0.06917  │ 0.253994 │ Int64    │\n",
       "│ 5   │ NOx      │ 0.554695 │ 0.115878 │ Float64  │\n",
       "│ 6   │ Rm       │ 6.28463  │ 0.702617 │ Float64  │\n",
       "│ 7   │ Age      │ 68.5749  │ 28.1489  │ Float64  │\n",
       "│ 8   │ Dis      │ 3.79504  │ 2.10571  │ Float64  │\n",
       "│ 9   │ Rad      │ 9.54941  │ 8.70726  │ Int64    │\n",
       "│ 10  │ Tax      │ 408.237  │ 168.537  │ Int64    │\n",
       "│ 11  │ PTRatio  │ 18.4555  │ 2.16495  │ Float64  │\n",
       "│ 12  │ Black    │ 356.674  │ 91.2949  │ Float64  │\n",
       "│ 13  │ LStat    │ 12.6531  │ 7.14106  │ Float64  │\n",
       "│ 14  │ MedV     │ 22.5328  │ 9.1971   │ Float64  │"
      ]
     },
     "execution_count": 3,
     "metadata": {},
     "output_type": "execute_result"
    }
   ],
   "source": [
    "describe(boston, :mean, :std, :eltype)"
   ]
  },
  {
   "cell_type": "code",
   "execution_count": 4,
   "metadata": {},
   "outputs": [
    {
     "data": {
      "text/plain": [
       "LinearRegressor(\n",
       "    fit_intercept = true,\n",
       "    solver = nothing)\u001b[34m @496\u001b[39m"
      ]
     },
     "execution_count": 4,
     "metadata": {},
     "output_type": "execute_result"
    }
   ],
   "source": [
    "mdl = LinearRegressor()"
   ]
  },
  {
   "cell_type": "code",
   "execution_count": 5,
   "metadata": {},
   "outputs": [],
   "source": [
    "data = coerce(boston, autotype(boston, :discrete_to_continuous));"
   ]
  },
  {
   "cell_type": "code",
   "execution_count": 6,
   "metadata": {},
   "outputs": [],
   "source": [
    "y = data.MedV\n",
    "X = select(data, Not(:MedV));"
   ]
  },
  {
   "cell_type": "code",
   "execution_count": 7,
   "metadata": {},
   "outputs": [
    {
     "name": "stderr",
     "output_type": "stream",
     "text": [
      "┌ Info: Training \u001b[34mMachine{LinearRegressor} @536\u001b[39m.\n",
      "└ @ MLJBase /home/angicia/.julia/packages/MLJBase/uKzAz/src/machines.jl:319\n"
     ]
    },
    {
     "data": {
      "text/plain": [
       "\u001b[34mMachine{LinearRegressor} @536\u001b[39m trained 1 time.\n",
       "  args: \n",
       "    1:\t\u001b[34mSource @649\u001b[39m ⏎ `Table{AbstractArray{Continuous,1}}`\n",
       "    2:\t\u001b[34mSource @895\u001b[39m ⏎ `AbstractArray{Continuous,1}`\n"
      ]
     },
     "execution_count": 7,
     "metadata": {},
     "output_type": "execute_result"
    }
   ],
   "source": [
    "X_uni = select(X, :LStat) \n",
    "mach_uni = machine(mdl, X_uni, y)\n",
    "fit!(mach_uni)"
   ]
  },
  {
   "cell_type": "code",
   "execution_count": 8,
   "metadata": {},
   "outputs": [
    {
     "name": "stdout",
     "output_type": "stream",
     "text": [
      "fp.coefs = [:LStat => -0.950049353757991]\n",
      "fp.intercept = 34.553840879383095\n"
     ]
    },
    {
     "data": {
      "text/plain": [
       "34.553840879383095"
      ]
     },
     "execution_count": 8,
     "metadata": {},
     "output_type": "execute_result"
    }
   ],
   "source": [
    "fp = fitted_params(mach_uni)\n",
    "@show fp.coefs\n",
    "@show fp.intercept"
   ]
  },
  {
   "cell_type": "code",
   "execution_count": 9,
   "metadata": {},
   "outputs": [
    {
     "ename": "ErrorException",
     "evalue": "setfield! immutable struct of type NamedTuple cannot be changed",
     "output_type": "error",
     "traceback": [
      "setfield! immutable struct of type NamedTuple cannot be changed",
      "",
      "Stacktrace:",
      " [1] setproperty!(::NamedTuple{(:coefs, :intercept),Tuple{Array{Pair{Symbol,Float64},1},Float64}}, ::Symbol, ::Array{Pair{Symbol,Float64},1}) at ./Base.jl:34",
      " [2] top-level scope at In[9]:1"
     ]
    }
   ],
   "source": [
    "fp.coefs = [:LStat => -0.950049353757991]\n",
    "fp.intercept = 34.553840879383095"
   ]
  },
  {
   "cell_type": "code",
   "execution_count": 10,
   "metadata": {},
   "outputs": [
    {
     "data": {
      "image/png": "[encoded data removed]",
      "text/plain": [
       "Figure(PyObject <Figure size 800x600 with 1 Axes>)"
      ]
     },
     "metadata": {},
     "output_type": "display_data"
    },
    {
     "data": {
      "text/plain": [
       "1-element Array{PyCall.PyObject,1}:\n",
       " PyObject <matplotlib.lines.Line2D object at 0x7f8633dbadc0>"
      ]
     },
     "execution_count": 10,
     "metadata": {},
     "output_type": "execute_result"
    }
   ],
   "source": [
    "using PyPlot\n",
    "\n",
    "figure(figsize=(8,6))\n",
    "plot(X.LStat, y, ls=\"none\", marker=\"o\")\n",
    "Xnew = (LStat = collect(range(extrema(X.LStat)..., length=100)),)\n",
    "plot(Xnew.LStat, predict(mach_uni, Xnew))"
   ]
  },
  {
   "cell_type": "code",
   "execution_count": null,
   "metadata": {},
   "outputs": [],
   "source": []
  }
 ],
 "metadata": {
  "kernelspec": {
   "display_name": "Julia 1.4.1",
   "language": "julia",
   "name": "julia-1.4"
  },
  "language_info": {
   "file_extension": ".jl",
   "mimetype": "application/julia",
   "name": "julia",
   "version": "1.4.1"
  }
 },
 "nbformat": 4,
 "nbformat_minor": 4
}
