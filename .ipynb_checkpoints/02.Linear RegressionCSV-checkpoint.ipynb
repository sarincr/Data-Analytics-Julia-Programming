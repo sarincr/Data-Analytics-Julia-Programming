{
 "cells": [
  {
   "cell_type": "code",
   "execution_count": 1,
   "metadata": {},
   "outputs": [
    {
     "name": "stderr",
     "output_type": "stream",
     "text": [
      "┌ Info: Precompiling PyPlot [d330b81b-6aea-500a-939a-2ce795aea3ee]\n",
      "└ @ Base loading.jl:1260\n",
      "Matplotlib is building the font cache; this may take a moment.\n"
     ]
    }
   ],
   "source": [
    "using DataFrames, CSV\n",
    "using Plots\n",
    "pyplot();"
   ]
  },
  {
   "cell_type": "code",
   "execution_count": 2,
   "metadata": {},
   "outputs": [
    {
     "name": "stderr",
     "output_type": "stream",
     "text": [
      "┌ Warning: `CSV.read(input; kw...)` is deprecated in favor of `using DataFrames; CSV.read(input, DataFrame; kw...)\n",
      "│   caller = read(::String) at CSV.jl:40\n",
      "└ @ CSV /home/angicia/.julia/packages/CSV/MKemC/src/CSV.jl:40\n"
     ]
    }
   ],
   "source": [
    "data = CSV.read(\"Data.csv\");"
   ]
  },
  {
   "cell_type": "code",
   "execution_count": 3,
   "metadata": {},
   "outputs": [
    {
     "data": {
      "text/html": [
       "<table class=\"data-frame\"><thead><tr><th></th><th>YearsExperience</th><th>Salary</th></tr><tr><th></th><th>Float64</th><th>Int64</th></tr></thead><tbody><p>30 rows × 2 columns</p><tr><th>1</th><td>1.1</td><td>39343</td></tr><tr><th>2</th><td>1.3</td><td>46205</td></tr><tr><th>3</th><td>1.5</td><td>37731</td></tr><tr><th>4</th><td>2.0</td><td>43525</td></tr><tr><th>5</th><td>2.2</td><td>39891</td></tr><tr><th>6</th><td>2.9</td><td>56642</td></tr><tr><th>7</th><td>3.0</td><td>60150</td></tr><tr><th>8</th><td>3.2</td><td>54445</td></tr><tr><th>9</th><td>3.2</td><td>64445</td></tr><tr><th>10</th><td>3.7</td><td>57189</td></tr><tr><th>11</th><td>3.9</td><td>63218</td></tr><tr><th>12</th><td>4.0</td><td>55794</td></tr><tr><th>13</th><td>4.0</td><td>56957</td></tr><tr><th>14</th><td>4.1</td><td>57081</td></tr><tr><th>15</th><td>4.5</td><td>61111</td></tr><tr><th>16</th><td>4.9</td><td>67938</td></tr><tr><th>17</th><td>5.1</td><td>66029</td></tr><tr><th>18</th><td>5.3</td><td>83088</td></tr><tr><th>19</th><td>5.9</td><td>81363</td></tr><tr><th>20</th><td>6.0</td><td>93940</td></tr><tr><th>21</th><td>6.8</td><td>91738</td></tr><tr><th>22</th><td>7.1</td><td>98273</td></tr><tr><th>23</th><td>7.9</td><td>101302</td></tr><tr><th>24</th><td>8.2</td><td>113812</td></tr><tr><th>25</th><td>8.7</td><td>109431</td></tr><tr><th>26</th><td>9.0</td><td>105582</td></tr><tr><th>27</th><td>9.5</td><td>116969</td></tr><tr><th>28</th><td>9.6</td><td>112635</td></tr><tr><th>29</th><td>10.3</td><td>122391</td></tr><tr><th>30</th><td>10.5</td><td>121872</td></tr></tbody></table>"
      ],
      "text/latex": [
       "\\begin{tabular}{r|cc}\n",
       "\t& YearsExperience & Salary\\\\\n",
       "\t\\hline\n",
       "\t& Float64 & Int64\\\\\n",
       "\t\\hline\n",
       "\t1 & 1.1 & 39343 \\\\\n",
       "\t2 & 1.3 & 46205 \\\\\n",
       "\t3 & 1.5 & 37731 \\\\\n",
       "\t4 & 2.0 & 43525 \\\\\n",
       "\t5 & 2.2 & 39891 \\\\\n",
       "\t6 & 2.9 & 56642 \\\\\n",
       "\t7 & 3.0 & 60150 \\\\\n",
       "\t8 & 3.2 & 54445 \\\\\n",
       "\t9 & 3.2 & 64445 \\\\\n",
       "\t10 & 3.7 & 57189 \\\\\n",
       "\t11 & 3.9 & 63218 \\\\\n",
       "\t12 & 4.0 & 55794 \\\\\n",
       "\t13 & 4.0 & 56957 \\\\\n",
       "\t14 & 4.1 & 57081 \\\\\n",
       "\t15 & 4.5 & 61111 \\\\\n",
       "\t16 & 4.9 & 67938 \\\\\n",
       "\t17 & 5.1 & 66029 \\\\\n",
       "\t18 & 5.3 & 83088 \\\\\n",
       "\t19 & 5.9 & 81363 \\\\\n",
       "\t20 & 6.0 & 93940 \\\\\n",
       "\t21 & 6.8 & 91738 \\\\\n",
       "\t22 & 7.1 & 98273 \\\\\n",
       "\t23 & 7.9 & 101302 \\\\\n",
       "\t24 & 8.2 & 113812 \\\\\n",
       "\t25 & 8.7 & 109431 \\\\\n",
       "\t26 & 9.0 & 105582 \\\\\n",
       "\t27 & 9.5 & 116969 \\\\\n",
       "\t28 & 9.6 & 112635 \\\\\n",
       "\t29 & 10.3 & 122391 \\\\\n",
       "\t30 & 10.5 & 121872 \\\\\n",
       "\\end{tabular}\n"
      ],
      "text/plain": [
       "30×2 DataFrame\n",
       "│ Row │ YearsExperience │ Salary │\n",
       "│     │ \u001b[90mFloat64\u001b[39m         │ \u001b[90mInt64\u001b[39m  │\n",
       "├─────┼─────────────────┼────────┤\n",
       "│ 1   │ 1.1             │ 39343  │\n",
       "│ 2   │ 1.3             │ 46205  │\n",
       "│ 3   │ 1.5             │ 37731  │\n",
       "│ 4   │ 2.0             │ 43525  │\n",
       "│ 5   │ 2.2             │ 39891  │\n",
       "│ 6   │ 2.9             │ 56642  │\n",
       "│ 7   │ 3.0             │ 60150  │\n",
       "│ 8   │ 3.2             │ 54445  │\n",
       "│ 9   │ 3.2             │ 64445  │\n",
       "│ 10  │ 3.7             │ 57189  │\n",
       "⋮\n",
       "│ 20  │ 6.0             │ 93940  │\n",
       "│ 21  │ 6.8             │ 91738  │\n",
       "│ 22  │ 7.1             │ 98273  │\n",
       "│ 23  │ 7.9             │ 101302 │\n",
       "│ 24  │ 8.2             │ 113812 │\n",
       "│ 25  │ 8.7             │ 109431 │\n",
       "│ 26  │ 9.0             │ 105582 │\n",
       "│ 27  │ 9.5             │ 116969 │\n",
       "│ 28  │ 9.6             │ 112635 │\n",
       "│ 29  │ 10.3            │ 122391 │\n",
       "│ 30  │ 10.5            │ 121872 │"
      ]
     },
     "execution_count": 3,
     "metadata": {},
     "output_type": "execute_result"
    }
   ],
   "source": [
    "data"
   ]
  },
  {
   "cell_type": "code",
   "execution_count": 4,
   "metadata": {},
   "outputs": [
    {
     "name": "stderr",
     "output_type": "stream",
     "text": [
      "┌ Warning: `names!(df::AbstractDataFrame, vals::Vector{Symbol}; makeunique::Bool = false)` is deprecated, use `rename!(df, vals, makeunique = makeunique)` instead.\n",
      "│   caller = top-level scope at In[4]:2\n",
      "└ @ Core In[4]:2\n"
     ]
    }
   ],
   "source": [
    "newnames = [\"YearsExperience\", \"Salary\"];\n",
    "names!(data, Symbol.(newnames));"
   ]
  },
  {
   "cell_type": "code",
   "execution_count": 5,
   "metadata": {},
   "outputs": [
    {
     "name": "stderr",
     "output_type": "stream",
     "text": [
      "┌ Warning: `getindex(df::DataFrame, col_ind::ColumnIndex)` is deprecated, use `df[!, col_ind]` instead.\n",
      "│   caller = top-level scope at In[5]:1\n",
      "└ @ Core In[5]:1\n",
      "┌ Warning: `getindex(df::DataFrame, col_ind::ColumnIndex)` is deprecated, use `df[!, col_ind]` instead.\n",
      "│   caller = top-level scope at In[5]:2\n",
      "└ @ Core In[5]:2\n"
     ]
    }
   ],
   "source": [
    "X = data[:YearsExperience];  #features\n",
    "y = data[:Salary];  #Y-values"
   ]
  },
  {
   "cell_type": "code",
   "execution_count": 6,
   "metadata": {},
   "outputs": [],
   "source": [
    "num_tr_ex = length(y);"
   ]
  },
  {
   "cell_type": "code",
   "execution_count": 7,
   "metadata": {},
   "outputs": [
    {
     "data": {
      "text/plain": [
       "30"
      ]
     },
     "execution_count": 7,
     "metadata": {},
     "output_type": "execute_result"
    }
   ],
   "source": [
    "num_tr_ex"
   ]
  },
  {
   "cell_type": "code",
   "execution_count": 8,
   "metadata": {},
   "outputs": [
    {
     "data": {
      "image/png": "[encoded data removed]"
     },
     "execution_count": 8,
     "metadata": {},
     "output_type": "execute_result"
    }
   ],
   "source": [
    "scatter(X,y, xaxis=\"YearsExperience\", yaxis=\"Salary\")"
   ]
  },
  {
   "cell_type": "code",
   "execution_count": 9,
   "metadata": {},
   "outputs": [
    {
     "data": {
      "text/plain": [
       "StatsModels.TableRegressionModel{LinearModel{GLM.LmResp{Array{Float64,1}},GLM.DensePredChol{Float64,LinearAlgebra.Cholesky{Float64,Array{Float64,2}}}},Array{Float64,2}}\n",
       "\n",
       "Salary ~ 1 + YearsExperience\n",
       "\n",
       "Coefficients:\n",
       "────────────────────────────────────────────────────────────────────────────\n",
       "                    Coef.  Std. Error      t  Pr(>|t|)  Lower 95%  Upper 95%\n",
       "────────────────────────────────────────────────────────────────────────────\n",
       "(Intercept)      25792.2     2273.05   11.35    <1e-11   21136.1     30448.3\n",
       "YearsExperience   9449.96     378.755  24.95    <1e-19    8674.12    10225.8\n",
       "────────────────────────────────────────────────────────────────────────────"
      ]
     },
     "execution_count": 9,
     "metadata": {},
     "output_type": "execute_result"
    }
   ],
   "source": [
    "using GLM\n",
    "linearRegressor = lm(@formula(Salary ~ YearsExperience), data)"
   ]
  },
  {
   "cell_type": "code",
   "execution_count": 10,
   "metadata": {},
   "outputs": [
    {
     "data": {
      "text/plain": [
       "30-element Array{Float64,1}:\n",
       "  36187.158752269264\n",
       "  38077.151216560276\n",
       "  39967.143680851295\n",
       "  44692.12484157883\n",
       "  46582.11730586985\n",
       "  53197.0909308884\n",
       "  54142.08716303391\n",
       "  56032.07962732493\n",
       "  56032.07962732493\n",
       "  60757.06078805247\n",
       "  62647.05325234348\n",
       "  63592.04948448899\n",
       "  63592.04948448899\n",
       "      ⋮\n",
       "  81546.97789525364\n",
       "  82491.97412739915\n",
       "  90051.9439845632\n",
       "  92886.93268099974\n",
       " 100446.90253816379\n",
       " 103281.8912346003\n",
       " 108006.87239532787\n",
       " 110841.86109176438\n",
       " 115566.84225249192\n",
       " 116511.83848463744\n",
       " 123126.81210965599\n",
       " 125016.80457394701"
      ]
     },
     "execution_count": 10,
     "metadata": {},
     "output_type": "execute_result"
    }
   ],
   "source": [
    "linearFit = predict(linearRegressor)"
   ]
  },
  {
   "cell_type": "code",
   "execution_count": 11,
   "metadata": {},
   "outputs": [
    {
     "data": {
      "image/png": "[encoded data removed]"
     },
     "execution_count": 11,
     "metadata": {},
     "output_type": "execute_result"
    }
   ],
   "source": [
    "plot(X,linearFit)\n",
    "scatter!(X,y, xaxis=\"Years of Experience\", yaxis=\"Salary\")"
   ]
  },
  {
   "cell_type": "code",
   "execution_count": null,
   "metadata": {},
   "outputs": [],
   "source": []
  }
 ],
 "metadata": {
  "kernelspec": {
   "display_name": "Julia 1.4.1",
   "language": "julia",
   "name": "julia-1.4"
  },
  "language_info": {
   "file_extension": ".jl",
   "mimetype": "application/julia",
   "name": "julia",
   "version": "1.4.1"
  }
 },
 "nbformat": 4,
 "nbformat_minor": 4
}
