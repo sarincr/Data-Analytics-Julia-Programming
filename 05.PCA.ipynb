{
 "cells": [
  {
   "cell_type": "code",
   "execution_count": 1,
   "metadata": {},
   "outputs": [
    {
     "name": "stderr",
     "output_type": "stream",
     "text": [
      "┌ Info: Precompiling mlpack [cf18a64e-e90e-11e8-37b7-fb5df6478bc0]\n",
      "└ @ Base loading.jl:1260\n"
     ]
    }
   ],
   "source": [
    "using mlpack"
   ]
  },
  {
   "cell_type": "code",
   "execution_count": 2,
   "metadata": {},
   "outputs": [],
   "source": [
    "x = rand(5, 5);"
   ]
  },
  {
   "cell_type": "code",
   "execution_count": 3,
   "metadata": {},
   "outputs": [
    {
     "name": "stdout",
     "output_type": "stream",
     "text": [
      "Input data:\n",
      "[0.8468104564652263 0.42392621611584547 0.9866065082701398 0.25097499849448734 0.9319200426641294; 0.11488528488746641 0.2745971436851844 0.5455075177090096 0.803224331595032 0.8797646563407204; 0.9654990861477382 0.9322127556208482 0.5754553407388234 0.775816534712408 0.3932945098706524; 0.763509413547045 0.9877065452628897 0.5956317497738131 0.18183049304478072 0.7848977977176812; 0.18634333158735572 0.029621463262694103 0.20586211912837737 0.28747804920150877 0.09691326480477835]"
     ]
    }
   ],
   "source": [
    "print(\"Input data:\\n\", x)"
   ]
  },
  {
   "cell_type": "code",
   "execution_count": 4,
   "metadata": {},
   "outputs": [
    {
     "name": "stdout",
     "output_type": "stream",
     "text": [
      "\n",
      "Performing PCA on dataset."
     ]
    }
   ],
   "source": [
    "print(\"\\nPerforming PCA on dataset.\")"
   ]
  },
  {
   "cell_type": "code",
   "execution_count": 5,
   "metadata": {},
   "outputs": [
    {
     "data": {
      "text/plain": [
       "5×5 LinearAlgebra.Adjoint{Float64,Array{Float64,2}}:\n",
       " -0.351133   0.391921   -0.265483   0.209507   -1.6272e-16\n",
       "  0.391601   0.395706    0.385396  -0.0819915   3.04376e-17\n",
       " -0.406178  -0.438682    0.291597   0.147904   -1.35562e-16\n",
       " -0.475515  -0.0744382  -0.167438  -0.301835   -1.24138e-16\n",
       "  0.841225  -0.274507   -0.244072   0.0264152  -8.18678e-17"
      ]
     },
     "execution_count": 5,
     "metadata": {},
     "output_type": "execute_result"
    }
   ],
   "source": [
    "y = mlpack.pca(x, new_dimensionality=5)"
   ]
  },
  {
   "cell_type": "code",
   "execution_count": 6,
   "metadata": {},
   "outputs": [
    {
     "name": "stdout",
     "output_type": "stream",
     "text": [
      "\n",
      "PCA result:\n",
      "[-0.3511326358549295 0.39192079921394024 -0.2654827394164091 0.20950728515557937 -1.6272023537008023e-16; 0.3916005667055714 0.3957056482531924 0.3853958985140985 -0.08199146576185136 3.043759128303281e-17; -0.4061783387605141 -0.43868168031015026 0.2915972164711854 0.14790374073457885 -1.355615512563685e-16; -0.47551474984305536 -0.07443819941206954 -0.16743811437406658 -0.30183478609354253 -1.2413750292284834e-16; 0.8412251577529275 -0.274506567744913 -0.2440722611948084 0.026415225965235968 -8.186780614240427e-17]"
     ]
    }
   ],
   "source": [
    "print(\"\\nPCA result:\\n\", y)"
   ]
  },
  {
   "cell_type": "code",
   "execution_count": null,
   "metadata": {},
   "outputs": [],
   "source": []
  }
 ],
 "metadata": {
  "kernelspec": {
   "display_name": "Julia 1.4.1",
   "language": "julia",
   "name": "julia-1.4"
  },
  "language_info": {
   "file_extension": ".jl",
   "mimetype": "application/julia",
   "name": "julia",
   "version": "1.4.1"
  }
 },
 "nbformat": 4,
 "nbformat_minor": 4
}
